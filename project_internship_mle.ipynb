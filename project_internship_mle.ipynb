{
 "cells": [
  {
   "cell_type": "markdown",
   "metadata": {
    "id": "lp_axZQrhGQz"
   },
   "source": [
    "\n",
    "# Intro\n"
   ]
  },
  {
   "cell_type": "markdown",
   "metadata": {
    "id": "NvQTANJbO92-"
   },
   "source": [
    "**Notes**\n",
    "\n",
    "The main bulk of the material comes from https://developers.google.com/machine-learning/recommendation/overview/candidate-generation. If you want to go further later, you can take a look at http://nicolas-hug.com/blog/matrix_facto_3. It is absolutely not expected to look at these two links for the interviews  or to complete the test."
   ]
  },
  {
   "cell_type": "markdown",
   "metadata": {
    "id": "fWJwwtLUeGn3"
   },
   "source": [
    "**Context**: \n",
    "\n",
    "We want to build a movies' recommender in order to get new movies to watch during the lock down. We will base our work on a variation of the MovieLens dataset. \n",
    "The data consists of movies seen by the users, some informations about the movies, and some informations about the users. The problem consists in predicting which movies a given user might like.\n",
    "\n",
    "We are presenting you here first a naive approach in order to familarize yourself with the problem and show you how it might be solved.\n",
    "\n",
    "**Task**:\n",
    "\n",
    "The code presented is a first implementation but has a number of shortcomings in its structure and features (more on that in the conclusion). Your task consist in producing a refactoring, so as to be one step closer to a \"clean\" code.\n",
    "\n",
    "**Evaluation**:\n",
    "\n",
    "Our goal here is two fold:\n",
    "- See how you understand a problem and adapt to an already given approach to tackle it.\n",
    "- See how you can design new features.\n",
    "- See how you manipulate python code: understanding, ideas to refactor etc ...\n",
    "\n",
    "The projects will be evaluated on the quality of the source code produced."
   ]
  },
  {
   "cell_type": "markdown",
   "metadata": {
    "id": "C09qoiwchTfd"
   },
   "source": [
    "# The data\n",
    "\n",
    "First, let's load some data."
   ]
  },
  {
   "cell_type": "code",
   "execution_count": 1,
   "metadata": {
    "colab": {
     "base_uri": "https://localhost:8080/",
     "height": 278
    },
    "id": "M4w1EYJrdvVA",
    "outputId": "c53c2a48-ddfc-40c8-e2a1-9130681cfd51"
   },
   "outputs": [
    {
     "name": "stdout",
     "output_type": "stream",
     "text": [
      "(6040, 5)\n"
     ]
    },
    {
     "data": {
      "text/html": [
       "<div>\n",
       "<style scoped>\n",
       "    .dataframe tbody tr th:only-of-type {\n",
       "        vertical-align: middle;\n",
       "    }\n",
       "\n",
       "    .dataframe tbody tr th {\n",
       "        vertical-align: top;\n",
       "    }\n",
       "\n",
       "    .dataframe thead th {\n",
       "        text-align: right;\n",
       "    }\n",
       "</style>\n",
       "<table border=\"1\" class=\"dataframe\">\n",
       "  <thead>\n",
       "    <tr style=\"text-align: right;\">\n",
       "      <th></th>\n",
       "      <th>user_id</th>\n",
       "      <th>gender</th>\n",
       "      <th>age</th>\n",
       "      <th>occupation</th>\n",
       "      <th>zip_code</th>\n",
       "    </tr>\n",
       "  </thead>\n",
       "  <tbody>\n",
       "    <tr>\n",
       "      <th>0</th>\n",
       "      <td>0</td>\n",
       "      <td>F</td>\n",
       "      <td>1</td>\n",
       "      <td>10</td>\n",
       "      <td>48067</td>\n",
       "    </tr>\n",
       "    <tr>\n",
       "      <th>1</th>\n",
       "      <td>1</td>\n",
       "      <td>M</td>\n",
       "      <td>56</td>\n",
       "      <td>16</td>\n",
       "      <td>70072</td>\n",
       "    </tr>\n",
       "    <tr>\n",
       "      <th>2</th>\n",
       "      <td>2</td>\n",
       "      <td>M</td>\n",
       "      <td>25</td>\n",
       "      <td>15</td>\n",
       "      <td>55117</td>\n",
       "    </tr>\n",
       "    <tr>\n",
       "      <th>3</th>\n",
       "      <td>3</td>\n",
       "      <td>M</td>\n",
       "      <td>45</td>\n",
       "      <td>7</td>\n",
       "      <td>02460</td>\n",
       "    </tr>\n",
       "    <tr>\n",
       "      <th>4</th>\n",
       "      <td>4</td>\n",
       "      <td>M</td>\n",
       "      <td>25</td>\n",
       "      <td>20</td>\n",
       "      <td>55455</td>\n",
       "    </tr>\n",
       "  </tbody>\n",
       "</table>\n",
       "</div>"
      ],
      "text/plain": [
       "   user_id gender  age  occupation zip_code\n",
       "0        0      F    1          10    48067\n",
       "1        1      M   56          16    70072\n",
       "2        2      M   25          15    55117\n",
       "3        3      M   45           7    02460\n",
       "4        4      M   25          20    55455"
      ]
     },
     "execution_count": 1,
     "metadata": {},
     "output_type": "execute_result"
    }
   ],
   "source": [
    "import pandas as pd\n",
    "\n",
    "users = pd.read_csv(\"data/users.csv\")\n",
    "print(users.shape)\n",
    "users.head()"
   ]
  },
  {
   "cell_type": "code",
   "execution_count": 2,
   "metadata": {
    "id": "1oGlGDVWfLD5"
   },
   "outputs": [
    {
     "data": {
      "text/html": [
       "<div>\n",
       "<style scoped>\n",
       "    .dataframe tbody tr th:only-of-type {\n",
       "        vertical-align: middle;\n",
       "    }\n",
       "\n",
       "    .dataframe tbody tr th {\n",
       "        vertical-align: top;\n",
       "    }\n",
       "\n",
       "    .dataframe thead th {\n",
       "        text-align: right;\n",
       "    }\n",
       "</style>\n",
       "<table border=\"1\" class=\"dataframe\">\n",
       "  <thead>\n",
       "    <tr style=\"text-align: right;\">\n",
       "      <th></th>\n",
       "      <th>movie_id</th>\n",
       "      <th>title</th>\n",
       "      <th>year</th>\n",
       "      <th>Animation</th>\n",
       "      <th>Children's</th>\n",
       "      <th>Comedy</th>\n",
       "      <th>Adventure</th>\n",
       "      <th>Fantasy</th>\n",
       "      <th>Romance</th>\n",
       "      <th>Drama</th>\n",
       "      <th>...</th>\n",
       "      <th>Crime</th>\n",
       "      <th>Thriller</th>\n",
       "      <th>Horror</th>\n",
       "      <th>Sci-Fi</th>\n",
       "      <th>Documentary</th>\n",
       "      <th>War</th>\n",
       "      <th>Musical</th>\n",
       "      <th>Mystery</th>\n",
       "      <th>Film-Noir</th>\n",
       "      <th>Western</th>\n",
       "    </tr>\n",
       "  </thead>\n",
       "  <tbody>\n",
       "    <tr>\n",
       "      <th>0</th>\n",
       "      <td>0</td>\n",
       "      <td>Toy Story</td>\n",
       "      <td>1995</td>\n",
       "      <td>1.0</td>\n",
       "      <td>1.0</td>\n",
       "      <td>1.0</td>\n",
       "      <td>0.0</td>\n",
       "      <td>0.0</td>\n",
       "      <td>0.0</td>\n",
       "      <td>0.0</td>\n",
       "      <td>...</td>\n",
       "      <td>0.0</td>\n",
       "      <td>0.0</td>\n",
       "      <td>0.0</td>\n",
       "      <td>0.0</td>\n",
       "      <td>0.0</td>\n",
       "      <td>0.0</td>\n",
       "      <td>0.0</td>\n",
       "      <td>0.0</td>\n",
       "      <td>0.0</td>\n",
       "      <td>0.0</td>\n",
       "    </tr>\n",
       "    <tr>\n",
       "      <th>1</th>\n",
       "      <td>1</td>\n",
       "      <td>Jumanji</td>\n",
       "      <td>1995</td>\n",
       "      <td>0.0</td>\n",
       "      <td>1.0</td>\n",
       "      <td>0.0</td>\n",
       "      <td>1.0</td>\n",
       "      <td>1.0</td>\n",
       "      <td>0.0</td>\n",
       "      <td>0.0</td>\n",
       "      <td>...</td>\n",
       "      <td>0.0</td>\n",
       "      <td>0.0</td>\n",
       "      <td>0.0</td>\n",
       "      <td>0.0</td>\n",
       "      <td>0.0</td>\n",
       "      <td>0.0</td>\n",
       "      <td>0.0</td>\n",
       "      <td>0.0</td>\n",
       "      <td>0.0</td>\n",
       "      <td>0.0</td>\n",
       "    </tr>\n",
       "    <tr>\n",
       "      <th>2</th>\n",
       "      <td>2</td>\n",
       "      <td>Grumpier Old Men</td>\n",
       "      <td>1995</td>\n",
       "      <td>0.0</td>\n",
       "      <td>0.0</td>\n",
       "      <td>1.0</td>\n",
       "      <td>0.0</td>\n",
       "      <td>0.0</td>\n",
       "      <td>1.0</td>\n",
       "      <td>0.0</td>\n",
       "      <td>...</td>\n",
       "      <td>0.0</td>\n",
       "      <td>0.0</td>\n",
       "      <td>0.0</td>\n",
       "      <td>0.0</td>\n",
       "      <td>0.0</td>\n",
       "      <td>0.0</td>\n",
       "      <td>0.0</td>\n",
       "      <td>0.0</td>\n",
       "      <td>0.0</td>\n",
       "      <td>0.0</td>\n",
       "    </tr>\n",
       "    <tr>\n",
       "      <th>3</th>\n",
       "      <td>3</td>\n",
       "      <td>Waiting to Exhale</td>\n",
       "      <td>1995</td>\n",
       "      <td>0.0</td>\n",
       "      <td>0.0</td>\n",
       "      <td>1.0</td>\n",
       "      <td>0.0</td>\n",
       "      <td>0.0</td>\n",
       "      <td>0.0</td>\n",
       "      <td>1.0</td>\n",
       "      <td>...</td>\n",
       "      <td>0.0</td>\n",
       "      <td>0.0</td>\n",
       "      <td>0.0</td>\n",
       "      <td>0.0</td>\n",
       "      <td>0.0</td>\n",
       "      <td>0.0</td>\n",
       "      <td>0.0</td>\n",
       "      <td>0.0</td>\n",
       "      <td>0.0</td>\n",
       "      <td>0.0</td>\n",
       "    </tr>\n",
       "    <tr>\n",
       "      <th>4</th>\n",
       "      <td>4</td>\n",
       "      <td>Father of the Bride Part II</td>\n",
       "      <td>1995</td>\n",
       "      <td>0.0</td>\n",
       "      <td>0.0</td>\n",
       "      <td>1.0</td>\n",
       "      <td>0.0</td>\n",
       "      <td>0.0</td>\n",
       "      <td>0.0</td>\n",
       "      <td>0.0</td>\n",
       "      <td>...</td>\n",
       "      <td>0.0</td>\n",
       "      <td>0.0</td>\n",
       "      <td>0.0</td>\n",
       "      <td>0.0</td>\n",
       "      <td>0.0</td>\n",
       "      <td>0.0</td>\n",
       "      <td>0.0</td>\n",
       "      <td>0.0</td>\n",
       "      <td>0.0</td>\n",
       "      <td>0.0</td>\n",
       "    </tr>\n",
       "  </tbody>\n",
       "</table>\n",
       "<p>5 rows × 21 columns</p>\n",
       "</div>"
      ],
      "text/plain": [
       "   movie_id                        title  year  Animation  Children's  Comedy  \\\n",
       "0         0                    Toy Story  1995        1.0         1.0     1.0   \n",
       "1         1                      Jumanji  1995        0.0         1.0     0.0   \n",
       "2         2             Grumpier Old Men  1995        0.0         0.0     1.0   \n",
       "3         3            Waiting to Exhale  1995        0.0         0.0     1.0   \n",
       "4         4  Father of the Bride Part II  1995        0.0         0.0     1.0   \n",
       "\n",
       "   Adventure  Fantasy  Romance  Drama  ...  Crime  Thriller  Horror  Sci-Fi  \\\n",
       "0        0.0      0.0      0.0    0.0  ...    0.0       0.0     0.0     0.0   \n",
       "1        1.0      1.0      0.0    0.0  ...    0.0       0.0     0.0     0.0   \n",
       "2        0.0      0.0      1.0    0.0  ...    0.0       0.0     0.0     0.0   \n",
       "3        0.0      0.0      0.0    1.0  ...    0.0       0.0     0.0     0.0   \n",
       "4        0.0      0.0      0.0    0.0  ...    0.0       0.0     0.0     0.0   \n",
       "\n",
       "   Documentary  War  Musical  Mystery  Film-Noir  Western  \n",
       "0          0.0  0.0      0.0      0.0        0.0      0.0  \n",
       "1          0.0  0.0      0.0      0.0        0.0      0.0  \n",
       "2          0.0  0.0      0.0      0.0        0.0      0.0  \n",
       "3          0.0  0.0      0.0      0.0        0.0      0.0  \n",
       "4          0.0  0.0      0.0      0.0        0.0      0.0  \n",
       "\n",
       "[5 rows x 21 columns]"
      ]
     },
     "execution_count": 2,
     "metadata": {},
     "output_type": "execute_result"
    }
   ],
   "source": [
    "movies = pd.read_csv(\"data/movies.csv\")\n",
    "movies.head()"
   ]
  },
  {
   "cell_type": "code",
   "execution_count": 3,
   "metadata": {
    "id": "f06rRH9OetFc"
   },
   "outputs": [
    {
     "data": {
      "text/html": [
       "<div>\n",
       "<style scoped>\n",
       "    .dataframe tbody tr th:only-of-type {\n",
       "        vertical-align: middle;\n",
       "    }\n",
       "\n",
       "    .dataframe tbody tr th {\n",
       "        vertical-align: top;\n",
       "    }\n",
       "\n",
       "    .dataframe thead th {\n",
       "        text-align: right;\n",
       "    }\n",
       "</style>\n",
       "<table border=\"1\" class=\"dataframe\">\n",
       "  <thead>\n",
       "    <tr style=\"text-align: right;\">\n",
       "      <th></th>\n",
       "      <th>user_id</th>\n",
       "      <th>movie_id</th>\n",
       "      <th>rating</th>\n",
       "    </tr>\n",
       "  </thead>\n",
       "  <tbody>\n",
       "    <tr>\n",
       "      <th>0</th>\n",
       "      <td>0</td>\n",
       "      <td>1192</td>\n",
       "      <td>5</td>\n",
       "    </tr>\n",
       "    <tr>\n",
       "      <th>1</th>\n",
       "      <td>0</td>\n",
       "      <td>660</td>\n",
       "      <td>3</td>\n",
       "    </tr>\n",
       "    <tr>\n",
       "      <th>2</th>\n",
       "      <td>0</td>\n",
       "      <td>913</td>\n",
       "      <td>3</td>\n",
       "    </tr>\n",
       "    <tr>\n",
       "      <th>3</th>\n",
       "      <td>0</td>\n",
       "      <td>3407</td>\n",
       "      <td>4</td>\n",
       "    </tr>\n",
       "    <tr>\n",
       "      <th>4</th>\n",
       "      <td>0</td>\n",
       "      <td>2354</td>\n",
       "      <td>5</td>\n",
       "    </tr>\n",
       "  </tbody>\n",
       "</table>\n",
       "</div>"
      ],
      "text/plain": [
       "   user_id  movie_id  rating\n",
       "0        0      1192       5\n",
       "1        0       660       3\n",
       "2        0       913       3\n",
       "3        0      3407       4\n",
       "4        0      2354       5"
      ]
     },
     "execution_count": 3,
     "metadata": {},
     "output_type": "execute_result"
    }
   ],
   "source": [
    "ratings = pd.read_csv(\"data/ratings.csv\")\n",
    "ratings.head()"
   ]
  },
  {
   "cell_type": "markdown",
   "metadata": {
    "id": "YZVOENCtl83E"
   },
   "source": [
    "# Content-based Filtering\n",
    "\n",
    "Content-based filtering uses item features to recommend other items similar to what the user likes, based on their previous actions or explicit feedback. We dont use other users information !\n",
    "\n",
    "For example, if user `A` liked `Harry Potter 1`, he/she will like `Harry Potter 2`"
   ]
  },
  {
   "cell_type": "code",
   "execution_count": 4,
   "metadata": {
    "colab": {
     "base_uri": "https://localhost:8080/",
     "height": 322
    },
    "id": "FZ4yhO-4Zx15",
    "jupyter": {
     "source_hidden": true
    },
    "outputId": "5739f88e-b73d-497d-928d-3608df9cd724"
   },
   "outputs": [
    {
     "data": {
      "text/html": [
       "<img src='https://miro.medium.com/max/1642/1*BME1JjIlBEAI9BV5pOO5Mg.png' height=\"300\" width=\"250\"/>\n"
      ],
      "text/plain": [
       "<IPython.core.display.HTML object>"
      ]
     },
     "metadata": {},
     "output_type": "display_data"
    }
   ],
   "source": [
    "%%html\n",
    "<img src='https://miro.medium.com/max/1642/1*BME1JjIlBEAI9BV5pOO5Mg.png' height=\"300\" width=\"250\"/>"
   ]
  },
  {
   "cell_type": "markdown",
   "metadata": {
    "id": "PfVv_CVWagIo"
   },
   "source": [
    "What are similar movies ? In order to answer to this question we need to build a similiarity measure. \n",
    "\n",
    "## Features\n",
    "\n",
    "This measure will operate on the characteristics (**features**) of the movies to determine which are close. In our case, we have access to the genres of the movies. For example, the genres of `Toy Story` are: `Animation`, `Children's` and `Comedy`. This is represented as follow in our dataset:"
   ]
  },
  {
   "cell_type": "code",
   "execution_count": 6,
   "metadata": {
    "id": "1noUwSktbEUJ"
   },
   "outputs": [
    {
     "data": {
      "text/html": [
       "<div>\n",
       "<style scoped>\n",
       "    .dataframe tbody tr th:only-of-type {\n",
       "        vertical-align: middle;\n",
       "    }\n",
       "\n",
       "    .dataframe tbody tr th {\n",
       "        vertical-align: top;\n",
       "    }\n",
       "\n",
       "    .dataframe thead th {\n",
       "        text-align: right;\n",
       "    }\n",
       "</style>\n",
       "<table border=\"1\" class=\"dataframe\">\n",
       "  <thead>\n",
       "    <tr style=\"text-align: right;\">\n",
       "      <th></th>\n",
       "      <th>title</th>\n",
       "      <th>Animation</th>\n",
       "      <th>Children's</th>\n",
       "      <th>Comedy</th>\n",
       "      <th>Adventure</th>\n",
       "      <th>Fantasy</th>\n",
       "      <th>Romance</th>\n",
       "      <th>Drama</th>\n",
       "      <th>Action</th>\n",
       "      <th>Crime</th>\n",
       "      <th>Thriller</th>\n",
       "      <th>Horror</th>\n",
       "      <th>Sci-Fi</th>\n",
       "      <th>Documentary</th>\n",
       "      <th>War</th>\n",
       "      <th>Musical</th>\n",
       "      <th>Mystery</th>\n",
       "      <th>Film-Noir</th>\n",
       "      <th>Western</th>\n",
       "    </tr>\n",
       "  </thead>\n",
       "  <tbody>\n",
       "    <tr>\n",
       "      <th>0</th>\n",
       "      <td>Toy Story</td>\n",
       "      <td>1.0</td>\n",
       "      <td>1.0</td>\n",
       "      <td>1.0</td>\n",
       "      <td>0.0</td>\n",
       "      <td>0.0</td>\n",
       "      <td>0.0</td>\n",
       "      <td>0.0</td>\n",
       "      <td>0.0</td>\n",
       "      <td>0.0</td>\n",
       "      <td>0.0</td>\n",
       "      <td>0.0</td>\n",
       "      <td>0.0</td>\n",
       "      <td>0.0</td>\n",
       "      <td>0.0</td>\n",
       "      <td>0.0</td>\n",
       "      <td>0.0</td>\n",
       "      <td>0.0</td>\n",
       "      <td>0.0</td>\n",
       "    </tr>\n",
       "    <tr>\n",
       "      <th>1</th>\n",
       "      <td>Jumanji</td>\n",
       "      <td>0.0</td>\n",
       "      <td>1.0</td>\n",
       "      <td>0.0</td>\n",
       "      <td>1.0</td>\n",
       "      <td>1.0</td>\n",
       "      <td>0.0</td>\n",
       "      <td>0.0</td>\n",
       "      <td>0.0</td>\n",
       "      <td>0.0</td>\n",
       "      <td>0.0</td>\n",
       "      <td>0.0</td>\n",
       "      <td>0.0</td>\n",
       "      <td>0.0</td>\n",
       "      <td>0.0</td>\n",
       "      <td>0.0</td>\n",
       "      <td>0.0</td>\n",
       "      <td>0.0</td>\n",
       "      <td>0.0</td>\n",
       "    </tr>\n",
       "    <tr>\n",
       "      <th>2</th>\n",
       "      <td>Grumpier Old Men</td>\n",
       "      <td>0.0</td>\n",
       "      <td>0.0</td>\n",
       "      <td>1.0</td>\n",
       "      <td>0.0</td>\n",
       "      <td>0.0</td>\n",
       "      <td>1.0</td>\n",
       "      <td>0.0</td>\n",
       "      <td>0.0</td>\n",
       "      <td>0.0</td>\n",
       "      <td>0.0</td>\n",
       "      <td>0.0</td>\n",
       "      <td>0.0</td>\n",
       "      <td>0.0</td>\n",
       "      <td>0.0</td>\n",
       "      <td>0.0</td>\n",
       "      <td>0.0</td>\n",
       "      <td>0.0</td>\n",
       "      <td>0.0</td>\n",
       "    </tr>\n",
       "    <tr>\n",
       "      <th>3</th>\n",
       "      <td>Waiting to Exhale</td>\n",
       "      <td>0.0</td>\n",
       "      <td>0.0</td>\n",
       "      <td>1.0</td>\n",
       "      <td>0.0</td>\n",
       "      <td>0.0</td>\n",
       "      <td>0.0</td>\n",
       "      <td>1.0</td>\n",
       "      <td>0.0</td>\n",
       "      <td>0.0</td>\n",
       "      <td>0.0</td>\n",
       "      <td>0.0</td>\n",
       "      <td>0.0</td>\n",
       "      <td>0.0</td>\n",
       "      <td>0.0</td>\n",
       "      <td>0.0</td>\n",
       "      <td>0.0</td>\n",
       "      <td>0.0</td>\n",
       "      <td>0.0</td>\n",
       "    </tr>\n",
       "    <tr>\n",
       "      <th>4</th>\n",
       "      <td>Father of the Bride Part II</td>\n",
       "      <td>0.0</td>\n",
       "      <td>0.0</td>\n",
       "      <td>1.0</td>\n",
       "      <td>0.0</td>\n",
       "      <td>0.0</td>\n",
       "      <td>0.0</td>\n",
       "      <td>0.0</td>\n",
       "      <td>0.0</td>\n",
       "      <td>0.0</td>\n",
       "      <td>0.0</td>\n",
       "      <td>0.0</td>\n",
       "      <td>0.0</td>\n",
       "      <td>0.0</td>\n",
       "      <td>0.0</td>\n",
       "      <td>0.0</td>\n",
       "      <td>0.0</td>\n",
       "      <td>0.0</td>\n",
       "      <td>0.0</td>\n",
       "    </tr>\n",
       "  </tbody>\n",
       "</table>\n",
       "</div>"
      ],
      "text/plain": [
       "                         title  Animation  Children's  Comedy  Adventure  \\\n",
       "0                    Toy Story        1.0         1.0     1.0        0.0   \n",
       "1                      Jumanji        0.0         1.0     0.0        1.0   \n",
       "2             Grumpier Old Men        0.0         0.0     1.0        0.0   \n",
       "3            Waiting to Exhale        0.0         0.0     1.0        0.0   \n",
       "4  Father of the Bride Part II        0.0         0.0     1.0        0.0   \n",
       "\n",
       "   Fantasy  Romance  Drama  Action  Crime  Thriller  Horror  Sci-Fi  \\\n",
       "0      0.0      0.0    0.0     0.0    0.0       0.0     0.0     0.0   \n",
       "1      1.0      0.0    0.0     0.0    0.0       0.0     0.0     0.0   \n",
       "2      0.0      1.0    0.0     0.0    0.0       0.0     0.0     0.0   \n",
       "3      0.0      0.0    1.0     0.0    0.0       0.0     0.0     0.0   \n",
       "4      0.0      0.0    0.0     0.0    0.0       0.0     0.0     0.0   \n",
       "\n",
       "   Documentary  War  Musical  Mystery  Film-Noir  Western  \n",
       "0          0.0  0.0      0.0      0.0        0.0      0.0  \n",
       "1          0.0  0.0      0.0      0.0        0.0      0.0  \n",
       "2          0.0  0.0      0.0      0.0        0.0      0.0  \n",
       "3          0.0  0.0      0.0      0.0        0.0      0.0  \n",
       "4          0.0  0.0      0.0      0.0        0.0      0.0  "
      ]
     },
     "execution_count": 6,
     "metadata": {},
     "output_type": "execute_result"
    }
   ],
   "source": [
    "genre_cols = [\"Animation\", \"Children's\", \n",
    "       'Comedy', 'Adventure', 'Fantasy', 'Romance', 'Drama',\n",
    "       'Action', 'Crime', 'Thriller', 'Horror', 'Sci-Fi', 'Documentary', 'War',\n",
    "       'Musical', 'Mystery', 'Film-Noir', 'Western']\n",
    "\n",
    "genre_and_title_cols = ['title'] + genre_cols \n",
    "\n",
    "movies[genre_and_title_cols].head()"
   ]
  },
  {
   "cell_type": "markdown",
   "metadata": {
    "id": "f-jorqHSb8LA"
   },
   "source": [
    "## Similarity\n",
    "\n",
    "Now that we have some features, we will try to find a function that performs a similiarity measure. The Similarity function will take two items (two list of features) and return a number proportional to their similarity. \n",
    "\n",
    "For the following we will consider that the Similarity between two movies is the number of genres they have in common.\n",
    "\n",
    "Here is an example with `Toy Story` and `E.T`"
   ]
  },
  {
   "cell_type": "code",
   "execution_count": 7,
   "metadata": {
    "colab": {
     "base_uri": "https://localhost:8080/"
    },
    "id": "YBBh17Rfc6SJ",
    "outputId": "f854fe57-36b7-4f3c-9c8b-2d3e97726863"
   },
   "outputs": [
    {
     "data": {
      "text/plain": [
       "Animation      1.0\n",
       "Children's     1.0\n",
       "Comedy         1.0\n",
       "Adventure      0.0\n",
       "Fantasy        0.0\n",
       "Romance        0.0\n",
       "Drama          0.0\n",
       "Action         0.0\n",
       "Crime          0.0\n",
       "Thriller       0.0\n",
       "Horror         0.0\n",
       "Sci-Fi         0.0\n",
       "Documentary    0.0\n",
       "War            0.0\n",
       "Musical        0.0\n",
       "Mystery        0.0\n",
       "Film-Noir      0.0\n",
       "Western        0.0\n",
       "Name: 0, dtype: float64"
      ]
     },
     "execution_count": 7,
     "metadata": {},
     "output_type": "execute_result"
    }
   ],
   "source": [
    "toy_story_genres = movies[genre_and_title_cols].loc[movies.title == 'Toy Story'][genre_cols].iloc[0]\n",
    "toy_story_genres"
   ]
  },
  {
   "cell_type": "code",
   "execution_count": 8,
   "metadata": {
    "colab": {
     "base_uri": "https://localhost:8080/"
    },
    "id": "o6ieFMXGb7Rx",
    "outputId": "a30a5499-c875-4ef5-b4f1-9a633064a7a4"
   },
   "outputs": [
    {
     "data": {
      "text/plain": [
       "Animation      0.0\n",
       "Children's     1.0\n",
       "Comedy         0.0\n",
       "Adventure      0.0\n",
       "Fantasy        1.0\n",
       "Romance        0.0\n",
       "Drama          1.0\n",
       "Action         0.0\n",
       "Crime          0.0\n",
       "Thriller       0.0\n",
       "Horror         0.0\n",
       "Sci-Fi         1.0\n",
       "Documentary    0.0\n",
       "War            0.0\n",
       "Musical        0.0\n",
       "Mystery        0.0\n",
       "Film-Noir      0.0\n",
       "Western        0.0\n",
       "Name: 1081, dtype: float64"
      ]
     },
     "execution_count": 8,
     "metadata": {},
     "output_type": "execute_result"
    }
   ],
   "source": [
    "et_genres = movies[genre_and_title_cols].loc[movies.title == 'E.T. the Extra-Terrestrial'][genre_cols].iloc[0]\n",
    "et_genres"
   ]
  },
  {
   "cell_type": "code",
   "execution_count": 9,
   "metadata": {
    "colab": {
     "base_uri": "https://localhost:8080/"
    },
    "id": "BZ82Q6GPYa7J",
    "outputId": "1f223d04-16b6-47c8-d526-6ef2adb90ac8"
   },
   "outputs": [
    {
     "data": {
      "text/plain": [
       "Animation      0.0\n",
       "Children's     1.0\n",
       "Comedy         0.0\n",
       "Adventure      0.0\n",
       "Fantasy        0.0\n",
       "Romance        0.0\n",
       "Drama          0.0\n",
       "Action         0.0\n",
       "Crime          0.0\n",
       "Thriller       0.0\n",
       "Horror         0.0\n",
       "Sci-Fi         0.0\n",
       "Documentary    0.0\n",
       "War            0.0\n",
       "Musical        0.0\n",
       "Mystery        0.0\n",
       "Film-Noir      0.0\n",
       "Western        0.0\n",
       "Name: 0, dtype: float64"
      ]
     },
     "execution_count": 9,
     "metadata": {},
     "output_type": "execute_result"
    }
   ],
   "source": [
    "et_genres.values * toy_story_genres"
   ]
  },
  {
   "cell_type": "code",
   "execution_count": 10,
   "metadata": {
    "colab": {
     "base_uri": "https://localhost:8080/"
    },
    "id": "kqD2q2_Se12z",
    "outputId": "43d355f6-c654-4e2e-cd3c-f852e2fd234f"
   },
   "outputs": [
    {
     "data": {
      "text/plain": [
       "1.0"
      ]
     },
     "execution_count": 10,
     "metadata": {},
     "output_type": "execute_result"
    }
   ],
   "source": [
    "(et_genres.values * toy_story_genres).sum() # scalar product"
   ]
  },
  {
   "cell_type": "markdown",
   "metadata": {},
   "source": [
    "So our similarity measure returns `1.0` for these two movies. \n",
    "\n",
    "Let's see another example where we compare `Toy Stories` and `Pocahontas`"
   ]
  },
  {
   "cell_type": "code",
   "execution_count": 11,
   "metadata": {},
   "outputs": [
    {
     "data": {
      "text/plain": [
       "2.0"
      ]
     },
     "execution_count": 11,
     "metadata": {},
     "output_type": "execute_result"
    }
   ],
   "source": [
    "pocahontas_genres = movies[genre_and_title_cols].loc[movies.title == 'Pocahontas'][genre_cols].iloc[0]\n",
    "(pocahontas_genres.values * toy_story_genres).sum()"
   ]
  },
  {
   "cell_type": "markdown",
   "metadata": {},
   "source": [
    "This tels us that `Pocahontas` is closer to `Toy Stories` than `E.T.` which makes sense.\n"
   ]
  },
  {
   "cell_type": "markdown",
   "metadata": {
    "id": "X8ofE1Saoy0E"
   },
   "source": [
    "## Scaling up\n",
    "\n",
    "Ok, that's a nice measure. Now we are going to scale it up to all movies of our dataset. To do so smartly, let's take a look at the operation we just did, but from a mathematical point of view. To do so, we will think of the list of features of a movie as a vector `V`. Then, our similarity measure between `Toy Story` and `E.T.` becomes:\n",
    "$ V_{ToyStory} \\cdot V_{ET}^{T}$\n",
    "\n",
    "More generally the similarity measure between a movie `i` and another movie `j` is : $ V_{i} \\cdot V_{j}^{T}$\n",
    "\n",
    "Now we can think of `movies` as a matrix containing all features vectors describing the movies. Here is how our similiarity measure looks in this context:"
   ]
  },
  {
   "cell_type": "markdown",
   "metadata": {
    "id": "IhMxm6S1SrPb"
   },
   "source": [
    "![](imgs/dot_product_matrices.png)"
   ]
  },
  {
   "cell_type": "markdown",
   "metadata": {},
   "source": [
    "To obtain the similiarity between all movies of our dataset we have to perform the dot product of the `movies` matrix with the transposed of the `movies` matrix."
   ]
  },
  {
   "cell_type": "code",
   "execution_count": 12,
   "metadata": {
    "colab": {
     "base_uri": "https://localhost:8080/"
    },
    "id": "Sc0c4IOie14q",
    "outputId": "b53c89d7-a1b5-495a-e94e-00df0f144cc6"
   },
   "outputs": [
    {
     "data": {
      "text/plain": [
       "(3883, 3883)"
      ]
     },
     "execution_count": 12,
     "metadata": {},
     "output_type": "execute_result"
    }
   ],
   "source": [
    "similarity = movies[genre_cols].values.dot(movies[genre_cols].values.T)\n",
    "similarity.shape"
   ]
  },
  {
   "cell_type": "markdown",
   "metadata": {},
   "source": [
    "We can now get the similarity between `Toy Story` and any other movie of our dataset"
   ]
  },
  {
   "cell_type": "code",
   "execution_count": 13,
   "metadata": {
    "colab": {
     "base_uri": "https://localhost:8080/"
    },
    "id": "7NQwxobBlJ1N",
    "outputId": "81bd2069-9b05-449e-986c-2608eb04d90b"
   },
   "outputs": [
    {
     "data": {
      "text/plain": [
       "array([3., 1., 1., ..., 0., 0., 0.])"
      ]
     },
     "execution_count": 13,
     "metadata": {},
     "output_type": "execute_result"
    }
   ],
   "source": [
    "similarity_with_toy_story = similarity[0] # 0 is Toy Story\n",
    "similarity_with_toy_story"
   ]
  },
  {
   "cell_type": "code",
   "execution_count": 14,
   "metadata": {
    "colab": {
     "base_uri": "https://localhost:8080/"
    },
    "id": "TpTkvXGflZhc",
    "outputId": "e688d431-2953-419e-a14d-af1428a7e95a"
   },
   "outputs": [
    {
     "name": "stdout",
     "output_type": "stream",
     "text": [
      "Similarity between Toy story and Toy Story (index 0) is 3.0\n",
      "Similarity between Toy story and Jumanji (index 1) is 1.0\n",
      "Similarity between Toy story and Grumpier Old Men (index 2) is 1.0\n",
      "Similarity between Toy story and Waiting to Exhale (index 3) is 1.0\n",
      "Similarity between Toy story and Father of the Bride Part II (index 4) is 1.0\n",
      "Similarity between Toy story and Heat (index 5) is 0.0\n",
      "Similarity between Toy story and Sabrina (index 6) is 1.0\n",
      "Similarity between Toy story and Tom and Huck (index 7) is 1.0\n",
      "Similarity between Toy story and Sudden Death (index 8) is 0.0\n",
      "Similarity between Toy story and GoldenEye (index 9) is 0.0\n"
     ]
    }
   ],
   "source": [
    "for i in range(10):\n",
    "    print(f\"Similarity between Toy story and {movies.iloc[i]['title']} (index {i}) is {similarity_with_toy_story[i]}\")"
   ]
  },
  {
   "cell_type": "markdown",
   "metadata": {},
   "source": [
    "## A bit of polishing"
   ]
  },
  {
   "cell_type": "markdown",
   "metadata": {
    "id": "eGaBP8Y2pCBF"
   },
   "source": [
    "### Helpers:\n",
    "\n",
    "We also built some helpers to handle the movies dataset:"
   ]
  },
  {
   "cell_type": "code",
   "execution_count": 15,
   "metadata": {
    "id": "g1PpvXUOofHE"
   },
   "outputs": [
    {
     "name": "stdout",
     "output_type": "stream",
     "text": [
      "0\n",
      "1023\n",
      "Toy Story\n",
      "Parent Trap, The\n",
      "1961\n"
     ]
    }
   ],
   "source": [
    "from content_based_filtering.helpers.movies import get_movie_id, get_movie_name, get_movie_year\n",
    "    \n",
    "print (get_movie_id(movies, 'Toy Story'))\n",
    "print (get_movie_id(movies, 'Die Hard'))\n",
    "\n",
    "print (get_movie_name(movies, 0))\n",
    "print (get_movie_name(movies, 1000))\n",
    "print (get_movie_year(movies, 1000))"
   ]
  },
  {
   "cell_type": "markdown",
   "metadata": {
    "id": "osEKhTEz2-IR"
   },
   "source": [
    "### Finding similar movies:\n",
    "Here is a method giving us the movie the most similar to another movie:"
   ]
  },
  {
   "cell_type": "code",
   "execution_count": 16,
   "metadata": {
    "id": "KvKxJsLi2858"
   },
   "outputs": [],
   "source": [
    "def get_most_similar(similarity, movie_name, year=None, top=10):\n",
    "    index_movie = get_movie_id(movies, movie_name, year)\n",
    "    best = similarity[index_movie].argsort()[::-1]\n",
    "    return [(ind, get_movie_name(movies, ind), similarity[index_movie, ind]) for ind in best[:top] if ind != index_movie]"
   ]
  },
  {
   "cell_type": "code",
   "execution_count": 18,
   "metadata": {
    "colab": {
     "base_uri": "https://localhost:8080/"
    },
    "id": "McgT_CoxgM8d",
    "outputId": "755202de-fec9-476a-8725-0f04b1869c64"
   },
   "outputs": [
    {
     "data": {
      "text/plain": [
       "[(667, 'Space Jam', 3.0),\n",
       " (3685, 'Adventures of Rocky and Bullwinkle, The', 3.0),\n",
       " (3682, 'Chicken Run', 3.0),\n",
       " (2009, 'Jungle Book, The', 3.0),\n",
       " (2011, 'Lady and the Tramp', 3.0),\n",
       " (2012, 'Little Mermaid, The', 3.0),\n",
       " (2033, 'Steamboat Willie', 3.0),\n",
       " (2072, 'American Tail, An', 3.0),\n",
       " (2073, 'American Tail: Fievel Goes West, An', 3.0)]"
      ]
     },
     "execution_count": 18,
     "metadata": {},
     "output_type": "execute_result"
    }
   ],
   "source": [
    "get_most_similar(similarity, 'Toy Story')"
   ]
  },
  {
   "cell_type": "code",
   "execution_count": 19,
   "metadata": {
    "colab": {
     "base_uri": "https://localhost:8080/"
    },
    "id": "mq_uQJkstgo_",
    "outputId": "20259fc7-e55a-46ed-9efa-7154791cdaec"
   },
   "outputs": [
    {
     "data": {
      "text/plain": [
       "[(3593, \"Puppet Master III: Toulon's Revenge\", 2.0),\n",
       " (2923, 'Rawhead Rex', 2.0),\n",
       " (1312, 'Believers, The', 2.0),\n",
       " (3407, \"Jacob's Ladder\", 2.0),\n",
       " (1957, 'Disturbing Behavior', 2.0),\n",
       " (1927, 'Poltergeist III', 2.0),\n",
       " (1926, 'Poltergeist II: The Other Side', 2.0),\n",
       " (1925, 'Poltergeist', 2.0),\n",
       " (732, 'Thinner', 2.0),\n",
       " (69, 'From Dusk Till Dawn', 2.0)]"
      ]
     },
     "execution_count": 19,
     "metadata": {},
     "output_type": "execute_result"
    }
   ],
   "source": [
    "get_most_similar(similarity, 'Psycho', 1960) "
   ]
  },
  {
   "cell_type": "markdown",
   "metadata": {},
   "source": [
    "### Giving a recommendation:\n",
    "\n",
    "And finally, let's find some movies to recommend based on previously liked movies:"
   ]
  },
  {
   "cell_type": "code",
   "execution_count": 20,
   "metadata": {},
   "outputs": [
    {
     "data": {
      "text/html": [
       "<div>\n",
       "<style scoped>\n",
       "    .dataframe tbody tr th:only-of-type {\n",
       "        vertical-align: middle;\n",
       "    }\n",
       "\n",
       "    .dataframe tbody tr th {\n",
       "        vertical-align: top;\n",
       "    }\n",
       "\n",
       "    .dataframe thead th {\n",
       "        text-align: right;\n",
       "    }\n",
       "</style>\n",
       "<table border=\"1\" class=\"dataframe\">\n",
       "  <thead>\n",
       "    <tr style=\"text-align: right;\">\n",
       "      <th></th>\n",
       "      <th>movie_id</th>\n",
       "      <th>title</th>\n",
       "      <th>similarity</th>\n",
       "    </tr>\n",
       "  </thead>\n",
       "  <tbody>\n",
       "    <tr>\n",
       "      <th>0</th>\n",
       "      <td>957</td>\n",
       "      <td>African Queen, The</td>\n",
       "      <td>4.0</td>\n",
       "    </tr>\n",
       "    <tr>\n",
       "      <th>1</th>\n",
       "      <td>1630</td>\n",
       "      <td>Starship Troopers</td>\n",
       "      <td>4.0</td>\n",
       "    </tr>\n",
       "    <tr>\n",
       "      <th>2</th>\n",
       "      <td>2253</td>\n",
       "      <td>Soldier</td>\n",
       "      <td>4.0</td>\n",
       "    </tr>\n",
       "    <tr>\n",
       "      <th>3</th>\n",
       "      <td>1178</td>\n",
       "      <td>Star Wars: Episode V - The Empire Strikes Back</td>\n",
       "      <td>4.0</td>\n",
       "    </tr>\n",
       "    <tr>\n",
       "      <th>26</th>\n",
       "      <td>2072</td>\n",
       "      <td>American Tail, An</td>\n",
       "      <td>3.0</td>\n",
       "    </tr>\n",
       "  </tbody>\n",
       "</table>\n",
       "</div>"
      ],
      "text/plain": [
       "    movie_id                                           title  similarity\n",
       "0        957                              African Queen, The         4.0\n",
       "1       1630                               Starship Troopers         4.0\n",
       "2       2253                                         Soldier         4.0\n",
       "3       1178  Star Wars: Episode V - The Empire Strikes Back         4.0\n",
       "26      2072                               American Tail, An         3.0"
      ]
     },
     "execution_count": 20,
     "metadata": {},
     "output_type": "execute_result"
    }
   ],
   "source": [
    "def get_recommendations(user_id):\n",
    "    top_movies = ratings[ratings['user_id'] == user_id].sort_values(by='rating', ascending=False).head(3)['movie_id']\n",
    "    index=['movie_id', 'title', 'similarity']\n",
    "\n",
    "    most_similars = []\n",
    "    for top_movie in top_movies:\n",
    "        most_similars += get_most_similar(similarity, get_movie_name(movies, top_movie), get_movie_year(movies, top_movie))\n",
    "\n",
    "    return pd.DataFrame(most_similars, columns=index).drop_duplicates().sort_values(by='similarity', ascending=False).head(5)\n",
    "\n",
    "get_recommendations(0)\n"
   ]
  },
  {
   "cell_type": "code",
   "execution_count": 21,
   "metadata": {},
   "outputs": [
    {
     "data": {
      "text/html": [
       "<div>\n",
       "<style scoped>\n",
       "    .dataframe tbody tr th:only-of-type {\n",
       "        vertical-align: middle;\n",
       "    }\n",
       "\n",
       "    .dataframe tbody tr th {\n",
       "        vertical-align: top;\n",
       "    }\n",
       "\n",
       "    .dataframe thead th {\n",
       "        text-align: right;\n",
       "    }\n",
       "</style>\n",
       "<table border=\"1\" class=\"dataframe\">\n",
       "  <thead>\n",
       "    <tr style=\"text-align: right;\">\n",
       "      <th></th>\n",
       "      <th>movie_id</th>\n",
       "      <th>title</th>\n",
       "      <th>similarity</th>\n",
       "    </tr>\n",
       "  </thead>\n",
       "  <tbody>\n",
       "    <tr>\n",
       "      <th>0</th>\n",
       "      <td>69</td>\n",
       "      <td>From Dusk Till Dawn</td>\n",
       "      <td>3.0</td>\n",
       "    </tr>\n",
       "    <tr>\n",
       "      <th>1</th>\n",
       "      <td>1599</td>\n",
       "      <td>Devil's Advocate, The</td>\n",
       "      <td>3.0</td>\n",
       "    </tr>\n",
       "    <tr>\n",
       "      <th>2</th>\n",
       "      <td>2757</td>\n",
       "      <td>13th Warrior, The</td>\n",
       "      <td>2.0</td>\n",
       "    </tr>\n",
       "    <tr>\n",
       "      <th>3</th>\n",
       "      <td>3701</td>\n",
       "      <td>Dreamscape</td>\n",
       "      <td>2.0</td>\n",
       "    </tr>\n",
       "    <tr>\n",
       "      <th>4</th>\n",
       "      <td>2044</td>\n",
       "      <td>Graveyard Shift</td>\n",
       "      <td>2.0</td>\n",
       "    </tr>\n",
       "  </tbody>\n",
       "</table>\n",
       "</div>"
      ],
      "text/plain": [
       "   movie_id                  title  similarity\n",
       "0        69    From Dusk Till Dawn         3.0\n",
       "1      1599  Devil's Advocate, The         3.0\n",
       "2      2757      13th Warrior, The         2.0\n",
       "3      3701             Dreamscape         2.0\n",
       "4      2044        Graveyard Shift         2.0"
      ]
     },
     "execution_count": 21,
     "metadata": {},
     "output_type": "execute_result"
    }
   ],
   "source": [
    "get_recommendations(1000)"
   ]
  },
  {
   "cell_type": "markdown",
   "metadata": {
    "id": "BOeXGuBqt-j1"
   },
   "source": [
    "# Conclusion:\n",
    "\n",
    "The code presented is a first implementation but has a number of shortcomings preventing the collaboration of multiple MLE and Data Scientists:\n",
    "- It is not possible to introduce easily new features mainly because the code is just a bunch of functions in one file.\n",
    "- The code can not be scaled to other datasets or variations of the tasks.\n",
    "- There is no evaluation of the performances.\n",
    "- There is no testing\n",
    "\n",
    "Additionaly a number we could think of some features to add, for example, what about looking at similar users to find a recommendation for our targeted user ?"
   ]
  }
 ],
 "metadata": {
  "colab": {
   "collapsed_sections": [],
   "name": "project_internship_mle.ipynb",
   "provenance": [],
   "toc_visible": true
  },
  "kernelspec": {
   "display_name": "Python 3",
   "language": "python",
   "name": "python3"
  },
  "language_info": {
   "codemirror_mode": {
    "name": "ipython",
    "version": 3
   },
   "file_extension": ".py",
   "mimetype": "text/x-python",
   "name": "python",
   "nbconvert_exporter": "python",
   "pygments_lexer": "ipython3",
   "version": "3.8.3"
  }
 },
 "nbformat": 4,
 "nbformat_minor": 4
}
